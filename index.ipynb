{
 "cells": [
  {
   "cell_type": "markdown",
   "metadata": {},
   "source": [
    "## Reproducing Watts and Strogatz ideas\n",
    "\n",
    "We've all heared the expression \"it's such a small world\". You often have unnexpected connection with someone you just meet with whom you have a friend or a relative in common, which just feels like an incredible coincidence. Watts and Strogatzs try to quantify just that. \n",
    "\n",
    "In the paper, the authors show that some networked systems showcase what they call \"small-worlds\" features. These involve a short path length and high clustering coefficient. In plain terms, what this means is that some systems have their components very well connected to their close neighbours while not too far from distant ones."
   ]
  },
  {
   "cell_type": "markdown",
   "metadata": {},
   "source": [
    "Let's start by building the following network that the authors call \"Ring Lattice\" in the paper:\n",
    "\n",
    "![](RingLattice.png)"
   ]
  },
  {
   "cell_type": "markdown",
   "metadata": {},
   "source": [
    "In this network, everyone is connected to their nearest neighbours. Can you imagine how this would look like in the form of an adjacency matrix? In this case, the network has N=20 nodes, and K=4 edges or links per node."
   ]
  },
  {
   "cell_type": "markdown",
   "metadata": {
    "solution2": "hidden",
    "solution2_first": true
   },
   "source": [
    "Manually transform the following identify matrix into a Ring Lattice with N=5 and K=4:\n",
    "\n",
    "```{r}\n",
    "rbind(\n",
    "        c(1,0,0,0,0),\n",
    "        c(0,1,0,0,0),\n",
    "        c(0,0,1,0,0),\n",
    "        c(0,0,0,1,0),\n",
    "        c(0,0,0,0,1)\n",
    "        )\n",
    "```"
   ]
  },
  {
   "cell_type": "markdown",
   "metadata": {
    "solution2": "hidden"
   },
   "source": [
    "```{r}\n",
    "rbind(\n",
    "        c(0,1,1,1,1),\n",
    "        c(1,0,1,1,1),\n",
    "        c(1,1,0,1,1),\n",
    "        c(1,1,1,0,1),\n",
    "        c(1,1,1,1,0)\n",
    "        )\n",
    "```"
   ]
  },
  {
   "cell_type": "code",
   "execution_count": null,
   "metadata": {},
   "outputs": [],
   "source": []
  }
 ],
 "metadata": {
  "kernelspec": {
   "display_name": "R",
   "language": "R",
   "name": "ir"
  },
  "language_info": {
   "codemirror_mode": "r",
   "file_extension": ".r",
   "mimetype": "text/x-r-source",
   "name": "R",
   "pygments_lexer": "r",
   "version": "3.6.1"
  }
 },
 "nbformat": 4,
 "nbformat_minor": 2
}
