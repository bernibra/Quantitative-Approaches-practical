{
 "cells": [
  {
   "cell_type": "markdown",
   "metadata": {},
   "source": [
    "# Reproducing Watts and Strogatz ideas\n",
    "\n",
    "We've all heared the expression \"it's such a small world\". You often have unnexpected connection with someone you just meet with whom you have a friend or a relative in common, which just feels like an incredible coincidence. Watts and Strogatzs try to quantify just that. \n",
    "\n",
    "In the paper, the authors show that some networked systems showcase what they call \"small-worlds\" features. These involve a short path length and high clustering coefficient. In plain terms, what this means is that some systems have their components very well connected to their close neighbours while not too far from distant ones."
   ]
  },
  {
   "cell_type": "markdown",
   "metadata": {},
   "source": [
    "## Ring Lattice\n",
    "\n",
    "Let's start by building the following network that the authors call \"Ring Lattice\" in the paper:\n",
    "\n",
    "![](RingLattice.png)"
   ]
  },
  {
   "cell_type": "markdown",
   "metadata": {},
   "source": [
    "In this network, everyone is connected to their nearest neighbours. Can you imagine how this would look like in the form of an adjacency matrix? In this case, the network has N=20 nodes, and K=4 edges or links per node."
   ]
  },
  {
   "cell_type": "markdown",
   "metadata": {
    "solution2": "hidden",
    "solution2_first": true
   },
   "source": [
    "Manually transform the following identify matrix into a Ring Lattice with N=5 and K=4:\n",
    "\n",
    "```{r}\n",
    "rbind(\n",
    "        c(1,0,0,0,0),\n",
    "        c(0,1,0,0,0),\n",
    "        c(0,0,1,0,0),\n",
    "        c(0,0,0,1,0),\n",
    "        c(0,0,0,0,1)\n",
    "        )\n",
    "```"
   ]
  },
  {
   "cell_type": "markdown",
   "metadata": {
    "solution2": "hidden"
   },
   "source": [
    "```{r}\n",
    "rbind(\n",
    "        c(0,1,1,1,1),\n",
    "        c(1,0,1,1,1),\n",
    "        c(1,1,0,1,1),\n",
    "        c(1,1,1,0,1),\n",
    "        c(1,1,1,1,0)\n",
    "        )\n",
    "```"
   ]
  },
  {
   "cell_type": "markdown",
   "metadata": {},
   "source": [
    "\n",
    "We can actually automatically generate an adjacency matrix like this one for any N and K using the function below (don't worry too much about the details of the function). Try different combinations of N nodes and K edges and try to see if you understand the shape of the adjacency matrix. <font color='red'>Notice that N>K, and the number of edges K will always have to be an even number if we want to have a Ring Lattice!</font>"
   ]
  },
  {
   "cell_type": "code",
   "execution_count": 10,
   "metadata": {},
   "outputs": [
    {
     "name": "stdout",
     "output_type": "stream",
     "text": [
      "      [,1] [,2] [,3] [,4] [,5] [,6] [,7] [,8] [,9] [,10]\n",
      " [1,]    0    1    1    0    0    0    0    0    1     1\n",
      " [2,]    1    0    1    1    0    0    0    0    0     1\n",
      " [3,]    1    1    0    1    1    0    0    0    0     0\n",
      " [4,]    0    1    1    0    1    1    0    0    0     0\n",
      " [5,]    0    0    1    1    0    1    1    0    0     0\n",
      " [6,]    0    0    0    1    1    0    1    1    0     0\n",
      " [7,]    0    0    0    0    1    1    0    1    1     0\n",
      " [8,]    0    0    0    0    0    1    1    0    1     1\n",
      " [9,]    1    0    0    0    0    0    1    1    0     1\n",
      "[10,]    1    1    0    0    0    0    0    1    1     0\n"
     ]
    }
   ],
   "source": [
    "N=10\n",
    "K=4\n",
    "ring_lattice <- function(N, K){\n",
    "    if(K%%2!=0){\n",
    "     stop(\"The number of edges K must be an even number\", call. = FALSE)\n",
    "    }\n",
    "    K <- K*0.5\n",
    "    return(toeplitz(c(0, rep(1, K), rep(0, N - 2 * K - 1), rep(1, K))))\n",
    "}\n",
    "\n",
    "print(ring_lattice(N=N,K=K))"
   ]
  },
  {
   "cell_type": "markdown",
   "metadata": {},
   "source": [
    "### Visualizing the network\n",
    "\n",
    "There is a package called \"igraph\" that will help you visualize the network. The first thing we need to do is import the library"
   ]
  },
  {
   "cell_type": "code",
   "execution_count": 12,
   "metadata": {},
   "outputs": [],
   "source": [
    "library(igraph)"
   ]
  },
  {
   "cell_type": "markdown",
   "metadata": {},
   "source": [
    "Then we need to convert our Ring lattice---which is represented as an adjacency matrix---to an igraph network. To do this, we can use the function 'graph_from_adjacency_matrix()', making sure we define the network as 'indirected' (there is no directionality in this networks' links, as opposed to a food web where they represent the transfer of energy from one node to another). We can visualize this network using the 'plot()' function in R:"
   ]
  },
  {
   "cell_type": "code",
   "execution_count": null,
   "metadata": {},
   "outputs": [],
   "source": [
    "mat <- ring_lattice(N,K)\n",
    "g <- graph_from_adjacency_matrix(mat, mode=\"undirected\")\n",
    "plot(g)"
   ]
  }
 ],
 "metadata": {
  "kernelspec": {
   "display_name": "R",
   "language": "R",
   "name": "ir"
  },
  "language_info": {
   "codemirror_mode": "r",
   "file_extension": ".r",
   "mimetype": "text/x-r-source",
   "name": "R",
   "pygments_lexer": "r",
   "version": "3.6.1"
  }
 },
 "nbformat": 4,
 "nbformat_minor": 2
}
